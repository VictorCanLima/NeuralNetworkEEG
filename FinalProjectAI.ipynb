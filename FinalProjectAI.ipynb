{
  "nbformat": 4,
  "nbformat_minor": 0,
  "metadata": {
    "colab": {
      "name": "FinalProjectAI.ipynb",
      "provenance": [],
      "collapsed_sections": [],
      "toc_visible": true,
      "mount_file_id": "1mMOIj1XK3uus7xD0Q9VkhZ_XxwBKGobo",
      "authorship_tag": "ABX9TyM3CIETxjmU7kqX5fWPX2Ql",
      "include_colab_link": true
    },
    "kernelspec": {
      "name": "python3",
      "display_name": "Python 3"
    },
    "language_info": {
      "name": "python"
    },
    "accelerator": "TPU"
  },
  "cells": [
    {
      "cell_type": "markdown",
      "metadata": {
        "id": "view-in-github",
        "colab_type": "text"
      },
      "source": [
        "<a href=\"https://colab.research.google.com/github/VictorCanLima/NeuralNetworkEEG/blob/main/FinalProjectAI.ipynb\" target=\"_parent\"><img src=\"https://colab.research.google.com/assets/colab-badge.svg\" alt=\"Open In Colab\"/></a>"
      ]
    },
    {
      "cell_type": "markdown",
      "metadata": {
        "id": "VCkwUmlL5RS1"
      },
      "source": [
        "# **Neural Network**\n",
        "## **Final Project**\n",
        "### Computer Systems Engineering\n",
        "### LIS3082-1 Artificial Intelligence\n",
        "### By Victor Armando Canales Lima (162328)\n",
        "### Professor Gerardo Ayala San Martín\n",
        "### Department of Computing, Electronics and Mechatronics\n",
        "### Universidad de las Am ́ericas Puebla, San Andr ́es Cholula, Puebla, México\n",
        "### May 14, 2021\n",
        "\n",
        "\n",
        "\n",
        "\n"
      ]
    },
    {
      "cell_type": "markdown",
      "metadata": {
        "id": "-oqXMV77VHtX"
      },
      "source": [
        "In this code we show the application of a Simple Neural Network to classify eeg motor imagery signals (left hand movement and right hand movement)\n",
        "\n",
        "First we do is to install the libraries we will need, make sure we can access the data tests. A folder with data samples should be given with this code. Put the folder in your Google Drive if you want to test this notebook from Google Colab, or leave it in the same directory than the notebook or python file you use to run this code."
      ]
    },
    {
      "cell_type": "markdown",
      "metadata": {
        "id": "UYKsc7Pz750-"
      },
      "source": [
        "## Data Preprocessing"
      ]
    },
    {
      "cell_type": "code",
      "metadata": {
        "id": "amtMAn5dRjjw",
        "colab": {
          "base_uri": "https://localhost:8080/"
        },
        "outputId": "890319c8-5e2a-4428-92d1-7c7f635c47e8"
      },
      "source": [
        "!pip install numpy matplotlib scipy numba scikit-learn mne PyWavelets pandas\n",
        "!pip install mne-features"
      ],
      "execution_count": null,
      "outputs": [
        {
          "output_type": "stream",
          "text": [
            "Requirement already satisfied: numpy in /usr/local/lib/python3.7/dist-packages (1.19.5)\n",
            "Requirement already satisfied: matplotlib in /usr/local/lib/python3.7/dist-packages (3.2.2)\n",
            "Requirement already satisfied: scipy in /usr/local/lib/python3.7/dist-packages (1.4.1)\n",
            "Requirement already satisfied: numba in /usr/local/lib/python3.7/dist-packages (0.51.2)\n",
            "Requirement already satisfied: scikit-learn in /usr/local/lib/python3.7/dist-packages (0.22.2.post1)\n",
            "Collecting mne\n",
            "\u001b[?25l  Downloading https://files.pythonhosted.org/packages/60/f7/2bf5de3fad42b66d00ee27539bc3be0260b4e66fdecc12f740cdf2daf2e7/mne-0.23.0-py3-none-any.whl (6.9MB)\n",
            "\u001b[K     |████████████████████████████████| 7.0MB 5.0MB/s \n",
            "\u001b[?25hRequirement already satisfied: PyWavelets in /usr/local/lib/python3.7/dist-packages (1.1.1)\n",
            "Requirement already satisfied: pandas in /usr/local/lib/python3.7/dist-packages (1.1.5)\n",
            "Requirement already satisfied: pyparsing!=2.0.4,!=2.1.2,!=2.1.6,>=2.0.1 in /usr/local/lib/python3.7/dist-packages (from matplotlib) (2.4.7)\n",
            "Requirement already satisfied: kiwisolver>=1.0.1 in /usr/local/lib/python3.7/dist-packages (from matplotlib) (1.3.1)\n",
            "Requirement already satisfied: cycler>=0.10 in /usr/local/lib/python3.7/dist-packages (from matplotlib) (0.10.0)\n",
            "Requirement already satisfied: python-dateutil>=2.1 in /usr/local/lib/python3.7/dist-packages (from matplotlib) (2.8.1)\n",
            "Requirement already satisfied: llvmlite<0.35,>=0.34.0.dev0 in /usr/local/lib/python3.7/dist-packages (from numba) (0.34.0)\n",
            "Requirement already satisfied: setuptools in /usr/local/lib/python3.7/dist-packages (from numba) (56.1.0)\n",
            "Requirement already satisfied: joblib>=0.11 in /usr/local/lib/python3.7/dist-packages (from scikit-learn) (1.0.1)\n",
            "Requirement already satisfied: pytz>=2017.2 in /usr/local/lib/python3.7/dist-packages (from pandas) (2018.9)\n",
            "Requirement already satisfied: six in /usr/local/lib/python3.7/dist-packages (from cycler>=0.10->matplotlib) (1.15.0)\n",
            "Installing collected packages: mne\n",
            "Successfully installed mne-0.23.0\n",
            "Collecting mne-features\n",
            "  Downloading https://files.pythonhosted.org/packages/07/3d/443195bc22d7b5ae118cef2fdf969714077c3013d56b5bd609a76c40837d/mne_features-0.1-py3-none-any.whl\n",
            "Requirement already satisfied: mne in /usr/local/lib/python3.7/dist-packages (from mne-features) (0.23.0)\n",
            "Requirement already satisfied: pandas in /usr/local/lib/python3.7/dist-packages (from mne-features) (1.1.5)\n",
            "Requirement already satisfied: scipy in /usr/local/lib/python3.7/dist-packages (from mne-features) (1.4.1)\n",
            "Requirement already satisfied: PyWavelets in /usr/local/lib/python3.7/dist-packages (from mne-features) (1.1.1)\n",
            "Requirement already satisfied: numpy in /usr/local/lib/python3.7/dist-packages (from mne-features) (1.19.5)\n",
            "Requirement already satisfied: numba in /usr/local/lib/python3.7/dist-packages (from mne-features) (0.51.2)\n",
            "Requirement already satisfied: scikit-learn in /usr/local/lib/python3.7/dist-packages (from mne-features) (0.22.2.post1)\n",
            "Requirement already satisfied: pytz>=2017.2 in /usr/local/lib/python3.7/dist-packages (from pandas->mne-features) (2018.9)\n",
            "Requirement already satisfied: python-dateutil>=2.7.3 in /usr/local/lib/python3.7/dist-packages (from pandas->mne-features) (2.8.1)\n",
            "Requirement already satisfied: setuptools in /usr/local/lib/python3.7/dist-packages (from numba->mne-features) (56.1.0)\n",
            "Requirement already satisfied: llvmlite<0.35,>=0.34.0.dev0 in /usr/local/lib/python3.7/dist-packages (from numba->mne-features) (0.34.0)\n",
            "Requirement already satisfied: joblib>=0.11 in /usr/local/lib/python3.7/dist-packages (from scikit-learn->mne-features) (1.0.1)\n",
            "Requirement already satisfied: six>=1.5 in /usr/local/lib/python3.7/dist-packages (from python-dateutil>=2.7.3->pandas->mne-features) (1.15.0)\n",
            "Installing collected packages: mne-features\n",
            "Successfully installed mne-features-0.1\n"
          ],
          "name": "stdout"
        }
      ]
    },
    {
      "cell_type": "code",
      "metadata": {
        "id": "ruV1U5Nr35ha",
        "colab": {
          "base_uri": "https://localhost:8080/"
        },
        "outputId": "eadb6e7a-c9e1-4dd1-b844-dff4c3ca9af6"
      },
      "source": [
        "from mne_features.univariate import compute_hjorth_complexity_spect as hjorthComp\n",
        "from mne_features.univariate import compute_hjorth_mobility_spect as hjorthMob\n",
        "from mne_features.univariate import compute_ptp_amp as ptp_amp\n",
        "from sklearn.model_selection import train_test_split as tts\n",
        "from scipy.io import loadmat as load\n",
        "from scipy import signal\n",
        "import pandas as pd\n",
        "import numpy as np\n",
        "\n",
        "\n",
        "try:#If Running in a Google Colaboratory Notebook\n",
        "  from google.colab import drive\n",
        "  drive.mount('/content/drive')\n",
        "  rawdatapath = '/content/drive/MyDrive/data/S4.mat'\n",
        "except:#If Running in a Local Jupyter Notebook\n",
        "  rawdatapath = 'data/S4.mat'\n"
      ],
      "execution_count": null,
      "outputs": [
        {
          "output_type": "stream",
          "text": [
            "Drive already mounted at /content/drive; to attempt to forcibly remount, call drive.mount(\"/content/drive\", force_remount=True).\n"
          ],
          "name": "stdout"
        }
      ]
    },
    {
      "cell_type": "markdown",
      "metadata": {
        "id": "uj6yzT2YV2eT"
      },
      "source": [
        "We create a class to import and preprocess the signal, we apply filters to clean the brain signal samples, we have 2 classes, right hand movement and left hand movement. "
      ]
    },
    {
      "cell_type": "code",
      "metadata": {
        "id": "Drlljc4S5290"
      },
      "source": [
        "class EEG_Signal_Handler():\n",
        "    def __init__(self, datapath):\n",
        "        self.data = load(datapath)  # Importando datos\n",
        "        self.C1=np.array(self.data['C1'])  # Movimiento Mano Izquierda 1\n",
        "        self.C2=np.array(self.data['C2'])  # Movimiento Mano Derecha 2\n",
        "        self.channels=len(self.C1[:,0,0])  # Numero de canales\n",
        "        self.samples=len(self.C1[0,:,0])   # Número de muestras por experimento\n",
        "        temp = np.arange(abs(len(self.C1[0,0,:])-len(self.C2[0,0,:])))\n",
        "        if len(self.C1[0,0,:]) > len(self.C2[0,0,:]):\n",
        "            self.C1 = np.delete(self.C1,temp,axis=2)\n",
        "        else:\n",
        "            self.C2 = np.delete(self.C2,temp,axis=2)\n",
        "        self.experiments=len(self.C1[0,0,:])\n",
        "        self.filter('highpass', 1)\n",
        "        self.filter('lowpass', 30)\n",
        "    def filter(self,filttype,cutfreq):\n",
        "        Wn = cutfreq/(250/2)\n",
        "        num, den = signal.butter(5,Wn,filttype)\n",
        "        for i in range(self.experiments):\n",
        "            self.C1[:,:,i] = signal.filtfilt(num,den,self.C1[:,:,i],1)\n",
        "            self.C2[:,:,i] = signal.filtfilt(num,den,self.C2[:,:,i],1)"
      ],
      "execution_count": null,
      "outputs": []
    },
    {
      "cell_type": "code",
      "metadata": {
        "id": "vuW-HICj-4HV"
      },
      "source": [
        "mysig = EEG_Signal_Handler(rawdatapath)"
      ],
      "execution_count": null,
      "outputs": []
    },
    {
      "cell_type": "markdown",
      "metadata": {
        "id": "X858FiHE8BK8"
      },
      "source": [
        "## Feature Extraction"
      ]
    },
    {
      "cell_type": "markdown",
      "metadata": {
        "id": "WPy2HQXyWHNV"
      },
      "source": [
        "Now we extract the features we are going to use. We have seven different features, but as we have 3 channels (eeg sensors), we have 3 different signals, in this class, we create our datasets to train and test our model. We will have 21 different inputs for our model, one for each channel and one for each feature we extract from the signal. Some of the features are extracted from the library developed by  MNE-Features Developers.\n",
        "\n",
        "Extracted features are:\n",
        "\n",
        "\n",
        "1.   Root Mean Value\n",
        "2.   Variance\n",
        "3.   Standard Deviation\n",
        "4.   Mean\n",
        "5.   Hjorth Mobility\n",
        "6.   Hjorth Complexity\n",
        "7.   Peak to Peak Amplitude\n",
        "\n"
      ]
    },
    {
      "cell_type": "code",
      "metadata": {
        "id": "gvv9Xyei6cXr"
      },
      "source": [
        "class Dataset_Creator():\n",
        "    def __init__(self,class1,class2):\n",
        "        featsC1 = self.get_features(class1)\n",
        "        featsC2 = self.get_features(class2)\n",
        "        labelsC1 = np.ones(mysig.experiments)\n",
        "        labelsC2 = np.ones(mysig.experiments)\n",
        "        self.x_complete = np.concatenate((featsC1,featsC2),axis=0)\n",
        "        self.y_complete = np.concatenate((labelsC1,labelsC2))\n",
        "        self.y_complete = np.concatenate((labelsC1,labelsC2))\n",
        "        self.x_train, self.x_test = None, None\n",
        "        self.y_train, self.y_test = None, None\n",
        "        self.test_split()\n",
        "    def test_split(self):\n",
        "        X,x,Y,y = tts(self.x_complete,self.y_complete,test_size=0.2) \n",
        "        self.x_train, self.x_test = X,x\n",
        "        self.y_train, self.y_test = Y,y\n",
        "    def get_features(self,c):\n",
        "        feats = np.empty((mysig.experiments,21))\n",
        "        for i in range(mysig.experiments):\n",
        "            feats[i,0] = np.sqrt(np.mean(c[0,:,i]**2))\n",
        "            feats[i,1] = np.sqrt(np.mean(c[1,:,i]**2))\n",
        "            feats[i,2] = np.sqrt(np.mean(c[2,:,i]**2))\n",
        "            feats[i,3] = np.var(c[0,:,i])\n",
        "            feats[i,4] = np.var(c[1,:,i])\n",
        "            feats[i,5] = np.var(c[2,:,i])\n",
        "            feats[i,6] = np.std(c[0,:,i])\n",
        "            feats[i,7] = np.std(c[1,:,i])\n",
        "            feats[i,8] = np.std(c[2,:,i])\n",
        "            feats[i, 9] = np.mean(c[0,:,i])\n",
        "            feats[i,10] = np.mean(c[1,:,i])\n",
        "            feats[i,11] = np.mean(c[2,:,i])\n",
        "            feats[i,12] = hjorthMob(250,c[0,:,i])\n",
        "            feats[i,13] = hjorthMob(250,c[1,:,i])\n",
        "            feats[i,14] = hjorthMob(250,c[2,:,i])\n",
        "            feats[i,15] = hjorthComp(250,c[0,:,i])\n",
        "            feats[i,16] = hjorthComp(250,c[1,:,i])\n",
        "            feats[i,17] = hjorthComp(250,c[2,:,i])\n",
        "            feats[i,18] = ptp_amp(c[0,:,i])\n",
        "            feats[i,19] = ptp_amp(c[1,:,i])\n",
        "            feats[i,20] = ptp_amp(c[2,:,i])\n",
        "        return feats"
      ],
      "execution_count": null,
      "outputs": []
    },
    {
      "cell_type": "code",
      "metadata": {
        "id": "DwDoTRPm-19I"
      },
      "source": [
        "myfeatures = Dataset_Creator(mysig.C1,mysig.C2)"
      ],
      "execution_count": null,
      "outputs": []
    },
    {
      "cell_type": "markdown",
      "metadata": {
        "id": "gFiXr1bt7d-g"
      },
      "source": [
        "## Defining Neural Network"
      ]
    },
    {
      "cell_type": "markdown",
      "metadata": {
        "id": "9jOMj0fHW-Rj"
      },
      "source": [
        "Now we define our Neural Network, inspired in the tutorial of the official YouTube channel of TensorFlow You. Our model will have 2 hiden layers, Rectifier activation function and as decision fuction for classification, the sigmoid fuction. As error function, we pick a binary crossentropy function, an as gain function, RMSprop, a gradient based optimization technique."
      ]
    },
    {
      "cell_type": "code",
      "metadata": {
        "id": "q2WrusJ18lwi"
      },
      "source": [
        "from keras.models import Sequential\n",
        "from keras.layers import Dense"
      ],
      "execution_count": null,
      "outputs": []
    },
    {
      "cell_type": "code",
      "metadata": {
        "id": "N32eCYnQ7cSZ"
      },
      "source": [
        "classifier = Sequential() # Initialising the ANN\n",
        "\n",
        "classifier.add(Dense(units = 11, activation = 'relu', input_dim = 21))\n",
        "classifier.add(Dense(units = 6, activation = 'relu'))\n",
        "classifier.add(Dense(units = 3, activation = 'relu'))\n",
        "classifier.add(Dense(units = 1, activation = 'sigmoid'))"
      ],
      "execution_count": null,
      "outputs": []
    },
    {
      "cell_type": "code",
      "metadata": {
        "id": "lF-kP00p71It"
      },
      "source": [
        "classifier.compile(optimizer = 'rmsprop', loss = 'binary_crossentropy')"
      ],
      "execution_count": null,
      "outputs": []
    },
    {
      "cell_type": "markdown",
      "metadata": {
        "id": "yuo9KL5D8Kt_"
      },
      "source": [
        "## Trainning"
      ]
    },
    {
      "cell_type": "code",
      "metadata": {
        "id": "cbJ8cgIQ8MZO",
        "colab": {
          "base_uri": "https://localhost:8080/"
        },
        "outputId": "806c96d9-cd85-4748-8e44-4f57afc50225"
      },
      "source": [
        "classifier.fit(myfeatures.x_train, myfeatures.y_train, batch_size = 1, epochs = 100)"
      ],
      "execution_count": null,
      "outputs": [
        {
          "output_type": "stream",
          "text": [
            "Epoch 1/100\n",
            "316/316 [==============================] - 1s 1ms/step - loss: 9634.6702\n",
            "Epoch 2/100\n",
            "316/316 [==============================] - 0s 1ms/step - loss: 20.1148\n",
            "Epoch 3/100\n",
            "316/316 [==============================] - 0s 1ms/step - loss: 0.6192\n",
            "Epoch 4/100\n",
            "316/316 [==============================] - 0s 1ms/step - loss: 6.9944e-32\n",
            "Epoch 5/100\n",
            "316/316 [==============================] - 0s 1ms/step - loss: 1.2891e-33\n",
            "Epoch 6/100\n",
            "316/316 [==============================] - 0s 1ms/step - loss: 1.3675e-33\n",
            "Epoch 7/100\n",
            "316/316 [==============================] - 0s 1ms/step - loss: 2.6159e-33\n",
            "Epoch 8/100\n",
            "316/316 [==============================] - 0s 1ms/step - loss: 2.1839e-33\n",
            "Epoch 9/100\n",
            "316/316 [==============================] - 0s 1ms/step - loss: 2.9713e-32\n",
            "Epoch 10/100\n",
            "316/316 [==============================] - 0s 1ms/step - loss: 1.0692e-32\n",
            "Epoch 11/100\n",
            "316/316 [==============================] - 0s 1ms/step - loss: 2.1686e-32\n",
            "Epoch 12/100\n",
            "316/316 [==============================] - 0s 1ms/step - loss: 7.3244e-33\n",
            "Epoch 13/100\n",
            "316/316 [==============================] - 0s 990us/step - loss: 5.5224e-33\n",
            "Epoch 14/100\n",
            "316/316 [==============================] - 0s 997us/step - loss: 2.8732e-32\n",
            "Epoch 15/100\n",
            "316/316 [==============================] - 0s 1ms/step - loss: 3.7619e-32\n",
            "Epoch 16/100\n",
            "316/316 [==============================] - 0s 1ms/step - loss: 1.1450e-32\n",
            "Epoch 17/100\n",
            "316/316 [==============================] - 0s 1ms/step - loss: 8.0210e-33\n",
            "Epoch 18/100\n",
            "316/316 [==============================] - 0s 1ms/step - loss: 1.1353e-32\n",
            "Epoch 19/100\n",
            "316/316 [==============================] - 0s 1ms/step - loss: 5.5224e-33\n",
            "Epoch 20/100\n",
            "316/316 [==============================] - 0s 1ms/step - loss: 8.7644e-33\n",
            "Epoch 21/100\n",
            "316/316 [==============================] - 0s 1ms/step - loss: 2.7935e-33\n",
            "Epoch 22/100\n",
            "316/316 [==============================] - 0s 1ms/step - loss: 2.9741e-33\n",
            "Epoch 23/100\n",
            "316/316 [==============================] - 0s 1ms/step - loss: 6.5428e-33\n",
            "Epoch 24/100\n",
            "316/316 [==============================] - 0s 1ms/step - loss: 1.1340e-33\n",
            "Epoch 25/100\n",
            "316/316 [==============================] - 0s 1ms/step - loss: 3.7274e-33\n",
            "Epoch 26/100\n",
            "316/316 [==============================] - 0s 1000us/step - loss: 4.9091e-33\n",
            "Epoch 27/100\n",
            "316/316 [==============================] - 0s 1ms/step - loss: 5.3517e-33\n",
            "Epoch 28/100\n",
            "316/316 [==============================] - 0s 1ms/step - loss: 3.4848e-32\n",
            "Epoch 29/100\n",
            "316/316 [==============================] - 0s 1ms/step - loss: 1.7253e-32\n",
            "Epoch 30/100\n",
            "316/316 [==============================] - 0s 1ms/step - loss: 1.8667e-32\n",
            "Epoch 31/100\n",
            "316/316 [==============================] - 0s 1ms/step - loss: 1.4224e-32\n",
            "Epoch 32/100\n",
            "316/316 [==============================] - 0s 1ms/step - loss: 4.9711e-32\n",
            "Epoch 33/100\n",
            "316/316 [==============================] - 0s 1ms/step - loss: 1.1648e-32\n",
            "Epoch 34/100\n",
            "316/316 [==============================] - 0s 1ms/step - loss: 3.6788e-33\n",
            "Epoch 35/100\n",
            "316/316 [==============================] - 0s 1ms/step - loss: 2.5499e-32\n",
            "Epoch 36/100\n",
            "316/316 [==============================] - 0s 1ms/step - loss: 2.8384e-33\n",
            "Epoch 37/100\n",
            "316/316 [==============================] - 0s 1ms/step - loss: 2.7830e-32\n",
            "Epoch 38/100\n",
            "316/316 [==============================] - 0s 1ms/step - loss: 7.7370e-33\n",
            "Epoch 39/100\n",
            "316/316 [==============================] - 0s 1ms/step - loss: 2.0995e-33\n",
            "Epoch 40/100\n",
            "316/316 [==============================] - 0s 1ms/step - loss: 2.0575e-33\n",
            "Epoch 41/100\n",
            "316/316 [==============================] - 0s 1ms/step - loss: 1.2371e-32\n",
            "Epoch 42/100\n",
            "316/316 [==============================] - 0s 1ms/step - loss: 1.7420e-32\n",
            "Epoch 43/100\n",
            "316/316 [==============================] - 0s 1ms/step - loss: 1.2891e-33\n",
            "Epoch 44/100\n",
            "316/316 [==============================] - 0s 1ms/step - loss: 1.5660e-33\n",
            "Epoch 45/100\n",
            "316/316 [==============================] - 0s 1ms/step - loss: 1.2264e-32\n",
            "Epoch 46/100\n",
            "316/316 [==============================] - 0s 1ms/step - loss: 6.1718e-33\n",
            "Epoch 47/100\n",
            "316/316 [==============================] - 0s 1ms/step - loss: 1.1340e-33\n",
            "Epoch 48/100\n",
            "316/316 [==============================] - 0s 1ms/step - loss: 3.7274e-33\n",
            "Epoch 49/100\n",
            "316/316 [==============================] - 0s 1ms/step - loss: 7.5532e-34\n",
            "Epoch 50/100\n",
            "316/316 [==============================] - 0s 1ms/step - loss: 6.9944e-32\n",
            "Epoch 51/100\n",
            "316/316 [==============================] - 0s 1ms/step - loss: 1.7529e-34\n",
            "Epoch 52/100\n",
            "316/316 [==============================] - 0s 1ms/step - loss: 5.6958e-33\n",
            "Epoch 53/100\n",
            "316/316 [==============================] - 0s 1ms/step - loss: 2.8175e-34\n",
            "Epoch 54/100\n",
            "316/316 [==============================] - 0s 1ms/step - loss: 3.7619e-32\n",
            "Epoch 55/100\n",
            "316/316 [==============================] - 0s 1ms/step - loss: 4.0237e-33\n",
            "Epoch 56/100\n",
            "316/316 [==============================] - 0s 1ms/step - loss: 3.0791e-32\n",
            "Epoch 57/100\n",
            "316/316 [==============================] - 0s 1ms/step - loss: 4.8550e-33\n",
            "Epoch 58/100\n",
            "316/316 [==============================] - 0s 1ms/step - loss: 1.4609e-32\n",
            "Epoch 59/100\n",
            "316/316 [==============================] - 0s 1ms/step - loss: 7.2571e-33\n",
            "Epoch 60/100\n",
            "316/316 [==============================] - 0s 1ms/step - loss: 7.8073e-33\n",
            "Epoch 61/100\n",
            "316/316 [==============================] - 0s 1ms/step - loss: 4.0738e-33\n",
            "Epoch 62/100\n",
            "316/316 [==============================] - 0s 1ms/step - loss: 1.6062e-33\n",
            "Epoch 63/100\n",
            "316/316 [==============================] - 0s 1ms/step - loss: 2.9212e-32\n",
            "Epoch 64/100\n",
            "316/316 [==============================] - 0s 1ms/step - loss: 3.0239e-32\n",
            "Epoch 65/100\n",
            "316/316 [==============================] - 0s 1ms/step - loss: 2.2690e-33\n",
            "Epoch 66/100\n",
            "316/316 [==============================] - 0s 1ms/step - loss: 4.2768e-33\n",
            "Epoch 67/100\n",
            "316/316 [==============================] - 0s 1ms/step - loss: 4.5359e-33\n",
            "Epoch 68/100\n",
            "316/316 [==============================] - 0s 1ms/step - loss: 1.5144e-32\n",
            "Epoch 69/100\n",
            "316/316 [==============================] - 0s 1ms/step - loss: 1.5144e-32\n",
            "Epoch 70/100\n",
            "316/316 [==============================] - 0s 1ms/step - loss: 6.8113e-34\n",
            "Epoch 71/100\n",
            "316/316 [==============================] - 0s 1ms/step - loss: 3.0791e-32\n",
            "Epoch 72/100\n",
            "316/316 [==============================] - 0s 1ms/step - loss: 2.0736e-32\n",
            "Epoch 73/100\n",
            "316/316 [==============================] - 0s 1ms/step - loss: 3.1371e-32\n",
            "Epoch 74/100\n",
            "316/316 [==============================] - 0s 1ms/step - loss: 3.5822e-33\n",
            "Epoch 75/100\n",
            "316/316 [==============================] - 0s 1ms/step - loss: 1.0332e-32\n",
            "Epoch 76/100\n",
            "316/316 [==============================] - 0s 1ms/step - loss: 2.9287e-33\n",
            "Epoch 77/100\n",
            "316/316 [==============================] - 0s 1ms/step - loss: 2.3575e-32\n",
            "Epoch 78/100\n",
            "316/316 [==============================] - 0s 1ms/step - loss: 8.3002e-34\n",
            "Epoch 79/100\n",
            "316/316 [==============================] - 0s 1ms/step - loss: 1.4862e-33\n",
            "Epoch 80/100\n",
            "316/316 [==============================] - 0s 1ms/step - loss: 4.0738e-33\n",
            "Epoch 81/100\n",
            "316/316 [==============================] - 0s 1ms/step - loss: 5.7077e-34\n",
            "Epoch 82/100\n",
            "316/316 [==============================] - 0s 1ms/step - loss: 6.9920e-33\n",
            "Epoch 83/100\n",
            "316/316 [==============================] - 0s 1ms/step - loss: 2.7406e-32\n",
            "Epoch 84/100\n",
            "316/316 [==============================] - 0s 1ms/step - loss: 6.2941e-33\n",
            "Epoch 85/100\n",
            "316/316 [==============================] - 0s 1ms/step - loss: 1.8296e-32\n",
            "Epoch 86/100\n",
            "316/316 [==============================] - 0s 1ms/step - loss: 4.9780e-34\n",
            "Epoch 87/100\n",
            "316/316 [==============================] - 0s 1ms/step - loss: 2.2193e-32\n",
            "Epoch 88/100\n",
            "316/316 [==============================] - 0s 1ms/step - loss: 3.9949e-32\n",
            "Epoch 89/100\n",
            "316/316 [==============================] - 0s 1ms/step - loss: 2.8175e-34\n",
            "Epoch 90/100\n",
            "316/316 [==============================] - 0s 1ms/step - loss: 6.0743e-34\n",
            "Epoch 91/100\n",
            "316/316 [==============================] - 0s 1ms/step - loss: 1.0190e-33\n",
            "Epoch 92/100\n",
            "316/316 [==============================] - 0s 1ms/step - loss: 4.1749e-33\n",
            "Epoch 93/100\n",
            "316/316 [==============================] - 0s 1ms/step - loss: 4.1242e-33\n",
            "Epoch 94/100\n",
            "316/316 [==============================] - 0s 1ms/step - loss: 1.4070e-33\n",
            "Epoch 95/100\n",
            "316/316 [==============================] - 0s 1ms/step - loss: 1.2159e-32\n",
            "Epoch 96/100\n",
            "316/316 [==============================] - 0s 1ms/step - loss: 3.3324e-32\n",
            "Epoch 97/100\n",
            "316/316 [==============================] - 0s 1ms/step - loss: 1.4099e-32\n",
            "Epoch 98/100\n",
            "316/316 [==============================] - 0s 1ms/step - loss: 8.0210e-33\n",
            "Epoch 99/100\n",
            "316/316 [==============================] - 0s 1ms/step - loss: 7.1238e-33\n",
            "Epoch 100/100\n",
            "316/316 [==============================] - 0s 1ms/step - loss: 9.4792e-33\n"
          ],
          "name": "stdout"
        },
        {
          "output_type": "execute_result",
          "data": {
            "text/plain": [
              "<tensorflow.python.keras.callbacks.History at 0x7fda2099cfd0>"
            ]
          },
          "metadata": {
            "tags": []
          },
          "execution_count": 12
        }
      ]
    },
    {
      "cell_type": "markdown",
      "metadata": {
        "id": "GyG35fVy8NEG"
      },
      "source": [
        "## Testing"
      ]
    },
    {
      "cell_type": "code",
      "metadata": {
        "id": "VjKwT9aJ8P8l",
        "colab": {
          "base_uri": "https://localhost:8080/"
        },
        "outputId": "672d9196-ff15-4055-ed43-ab77272a5730"
      },
      "source": [
        "Y_pred = classifier.predict(myfeatures.x_test)\n",
        "Y_pred = [ 1 if y>=0.5 else 0 for y in Y_pred ]\n",
        "\n",
        "total = 0\n",
        "correct = 0\n",
        "wrong = 0\n",
        "for i in Y_pred:\n",
        "  total=total+1\n",
        "  if(myfeatures.y_test[i] == Y_pred[i]):\n",
        "    correct=correct+1\n",
        "  else:\n",
        "    wrong=wrong+1\n",
        "\n",
        "print(\"Total \" + str(total))\n",
        "print(\"Correct \" + str(correct))\n",
        "print(\"Wrong \" + str(wrong))"
      ],
      "execution_count": null,
      "outputs": [
        {
          "output_type": "stream",
          "text": [
            "Total 80\n",
            "Correct 80\n",
            "Wrong 0\n"
          ],
          "name": "stdout"
        }
      ]
    },
    {
      "cell_type": "markdown",
      "metadata": {
        "id": "_gDec8iCYFJf"
      },
      "source": [
        "As we can see, we have a 100% accuracy. This is very hard to get with EEG signals, but the use of multiple features and the power of neural networks allow this to happen.\n",
        "\n",
        "NeverthlesNevertheless, for real life application, this is not really a good option as Neural Networks implie high computational costs. "
      ]
    }
  ]
}